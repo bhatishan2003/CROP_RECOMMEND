{
 "cells": [
  {
   "cell_type": "code",
   "execution_count": 1,
   "id": "4e26db15",
   "metadata": {},
   "outputs": [],
   "source": [
    "import numpy as np \n",
    "import pandas as pd "
   ]
  },
  {
   "cell_type": "code",
   "execution_count": 13,
   "id": "8fa1267b",
   "metadata": {},
   "outputs": [
    {
     "data": {
      "text/html": [
       "<div>\n",
       "<style scoped>\n",
       "    .dataframe tbody tr th:only-of-type {\n",
       "        vertical-align: middle;\n",
       "    }\n",
       "\n",
       "    .dataframe tbody tr th {\n",
       "        vertical-align: top;\n",
       "    }\n",
       "\n",
       "    .dataframe thead th {\n",
       "        text-align: right;\n",
       "    }\n",
       "</style>\n",
       "<table border=\"1\" class=\"dataframe\">\n",
       "  <thead>\n",
       "    <tr style=\"text-align: right;\">\n",
       "      <th></th>\n",
       "      <th>N</th>\n",
       "      <th>P</th>\n",
       "      <th>K</th>\n",
       "      <th>temperature</th>\n",
       "      <th>humidity</th>\n",
       "      <th>ph</th>\n",
       "      <th>rainfall</th>\n",
       "      <th>label</th>\n",
       "    </tr>\n",
       "  </thead>\n",
       "  <tbody>\n",
       "    <tr>\n",
       "      <th>2190</th>\n",
       "      <td>103</td>\n",
       "      <td>40</td>\n",
       "      <td>30</td>\n",
       "      <td>27.309018</td>\n",
       "      <td>55.196224</td>\n",
       "      <td>6.348316</td>\n",
       "      <td>141.483164</td>\n",
       "      <td>coffee</td>\n",
       "    </tr>\n",
       "    <tr>\n",
       "      <th>2191</th>\n",
       "      <td>118</td>\n",
       "      <td>31</td>\n",
       "      <td>34</td>\n",
       "      <td>27.548230</td>\n",
       "      <td>62.881792</td>\n",
       "      <td>6.123796</td>\n",
       "      <td>181.417081</td>\n",
       "      <td>coffee</td>\n",
       "    </tr>\n",
       "    <tr>\n",
       "      <th>2192</th>\n",
       "      <td>106</td>\n",
       "      <td>21</td>\n",
       "      <td>35</td>\n",
       "      <td>25.627355</td>\n",
       "      <td>57.041511</td>\n",
       "      <td>7.428524</td>\n",
       "      <td>188.550654</td>\n",
       "      <td>coffee</td>\n",
       "    </tr>\n",
       "    <tr>\n",
       "      <th>2193</th>\n",
       "      <td>116</td>\n",
       "      <td>38</td>\n",
       "      <td>34</td>\n",
       "      <td>23.292503</td>\n",
       "      <td>50.045570</td>\n",
       "      <td>6.020947</td>\n",
       "      <td>183.468585</td>\n",
       "      <td>coffee</td>\n",
       "    </tr>\n",
       "    <tr>\n",
       "      <th>2194</th>\n",
       "      <td>97</td>\n",
       "      <td>35</td>\n",
       "      <td>26</td>\n",
       "      <td>24.914610</td>\n",
       "      <td>53.741447</td>\n",
       "      <td>6.334610</td>\n",
       "      <td>166.254931</td>\n",
       "      <td>coffee</td>\n",
       "    </tr>\n",
       "    <tr>\n",
       "      <th>2195</th>\n",
       "      <td>107</td>\n",
       "      <td>34</td>\n",
       "      <td>32</td>\n",
       "      <td>26.774637</td>\n",
       "      <td>66.413269</td>\n",
       "      <td>6.780064</td>\n",
       "      <td>177.774507</td>\n",
       "      <td>coffee</td>\n",
       "    </tr>\n",
       "    <tr>\n",
       "      <th>2196</th>\n",
       "      <td>99</td>\n",
       "      <td>15</td>\n",
       "      <td>27</td>\n",
       "      <td>27.417112</td>\n",
       "      <td>56.636362</td>\n",
       "      <td>6.086922</td>\n",
       "      <td>127.924610</td>\n",
       "      <td>coffee</td>\n",
       "    </tr>\n",
       "    <tr>\n",
       "      <th>2197</th>\n",
       "      <td>118</td>\n",
       "      <td>33</td>\n",
       "      <td>30</td>\n",
       "      <td>24.131797</td>\n",
       "      <td>67.225123</td>\n",
       "      <td>6.362608</td>\n",
       "      <td>173.322839</td>\n",
       "      <td>coffee</td>\n",
       "    </tr>\n",
       "    <tr>\n",
       "      <th>2198</th>\n",
       "      <td>117</td>\n",
       "      <td>32</td>\n",
       "      <td>34</td>\n",
       "      <td>26.272418</td>\n",
       "      <td>52.127394</td>\n",
       "      <td>6.758793</td>\n",
       "      <td>127.175293</td>\n",
       "      <td>coffee</td>\n",
       "    </tr>\n",
       "    <tr>\n",
       "      <th>2199</th>\n",
       "      <td>104</td>\n",
       "      <td>18</td>\n",
       "      <td>30</td>\n",
       "      <td>23.603016</td>\n",
       "      <td>60.396475</td>\n",
       "      <td>6.779833</td>\n",
       "      <td>140.937041</td>\n",
       "      <td>coffee</td>\n",
       "    </tr>\n",
       "  </tbody>\n",
       "</table>\n",
       "</div>"
      ],
      "text/plain": [
       "        N   P   K  temperature   humidity        ph    rainfall   label\n",
       "2190  103  40  30    27.309018  55.196224  6.348316  141.483164  coffee\n",
       "2191  118  31  34    27.548230  62.881792  6.123796  181.417081  coffee\n",
       "2192  106  21  35    25.627355  57.041511  7.428524  188.550654  coffee\n",
       "2193  116  38  34    23.292503  50.045570  6.020947  183.468585  coffee\n",
       "2194   97  35  26    24.914610  53.741447  6.334610  166.254931  coffee\n",
       "2195  107  34  32    26.774637  66.413269  6.780064  177.774507  coffee\n",
       "2196   99  15  27    27.417112  56.636362  6.086922  127.924610  coffee\n",
       "2197  118  33  30    24.131797  67.225123  6.362608  173.322839  coffee\n",
       "2198  117  32  34    26.272418  52.127394  6.758793  127.175293  coffee\n",
       "2199  104  18  30    23.603016  60.396475  6.779833  140.937041  coffee"
      ]
     },
     "execution_count": 13,
     "metadata": {},
     "output_type": "execute_result"
    }
   ],
   "source": [
    "df = pd.read_csv(\"Crop_recommendation.csv\")\n",
    "df.tail(10)"
   ]
  },
  {
   "cell_type": "code",
   "execution_count": 15,
   "id": "d7e1c1cd",
   "metadata": {},
   "outputs": [
    {
     "data": {
      "text/plain": [
       "(2200, 8)"
      ]
     },
     "execution_count": 15,
     "metadata": {},
     "output_type": "execute_result"
    }
   ],
   "source": [
    "df.shape"
   ]
  },
  {
   "cell_type": "code",
   "execution_count": 3,
   "id": "e3293818",
   "metadata": {
    "scrolled": true
   },
   "outputs": [
    {
     "data": {
      "text/plain": [
       "array(['rice', 'maize', 'chickpea', 'kidneybeans', 'pigeonpeas',\n",
       "       'mothbeans', 'mungbean', 'blackgram', 'lentil', 'pomegranate',\n",
       "       'banana', 'mango', 'grapes', 'watermelon', 'muskmelon', 'apple',\n",
       "       'orange', 'papaya', 'coconut', 'cotton', 'jute', 'coffee'],\n",
       "      dtype=object)"
      ]
     },
     "execution_count": 3,
     "metadata": {},
     "output_type": "execute_result"
    }
   ],
   "source": [
    "df[\"label\"].unique()"
   ]
  },
  {
   "cell_type": "code",
   "execution_count": 4,
   "id": "444131fe",
   "metadata": {},
   "outputs": [],
   "source": [
    "X = df[['N', 'P','K','temperature', 'humidity', 'ph', 'rainfall']]\n",
    "y = df['label']   "
   ]
  },
  {
   "cell_type": "code",
   "execution_count": 5,
   "id": "081ef44c",
   "metadata": {},
   "outputs": [],
   "source": [
    "from sklearn.model_selection import train_test_split \n",
    "X_train ,X_test , y_train,y_test = train_test_split(X,y,train_size=0.75,random_state=32)"
   ]
  },
  {
   "cell_type": "code",
   "execution_count": 6,
   "id": "88739d8b",
   "metadata": {},
   "outputs": [
    {
     "name": "stdout",
     "output_type": "stream",
     "text": [
      "x_train : (1650, 7)\n",
      "x_test : (550, 7)\n",
      "y_train : (1650,)\n",
      "y_test : (550,)\n"
     ]
    }
   ],
   "source": [
    "print(\"x_train :\",X_train.shape)\n",
    "print(\"x_test :\",X_test.shape)\n",
    "print(\"y_train :\",y_train.shape)\n",
    "print(\"y_test :\",y_test.shape)"
   ]
  },
  {
   "cell_type": "code",
   "execution_count": 7,
   "id": "ff70becd",
   "metadata": {},
   "outputs": [],
   "source": [
    "from sklearn.neighbors import KNeighborsClassifier\n",
    "import warnings\n",
    "warnings.filterwarnings('ignore')\n",
    "knn = KNeighborsClassifier()\n",
    "knn.fit(X_train,y_train)\n",
    "y_pred = knn.predict(X_test)"
   ]
  },
  {
   "cell_type": "code",
   "execution_count": 8,
   "id": "eabc66cc",
   "metadata": {},
   "outputs": [
    {
     "name": "stdout",
     "output_type": "stream",
     "text": [
      "0.9818181818181818\n"
     ]
    }
   ],
   "source": [
    "from sklearn.metrics import accuracy_score\n",
    "acc = accuracy_score(y_test,y_pred)\n",
    "print(acc)"
   ]
  },
  {
   "cell_type": "code",
   "execution_count": 12,
   "id": "178e736c",
   "metadata": {},
   "outputs": [
    {
     "data": {
      "text/plain": [
       "array(['coffee'], dtype=object)"
      ]
     },
     "execution_count": 12,
     "metadata": {},
     "output_type": "execute_result"
    }
   ],
   "source": [
    "predicted_values = knn.predict([[99,15,27,27.417112,56.636362,6.086922,127.924610]])\n",
    "predicted_values"
   ]
  },
  {
   "cell_type": "code",
   "execution_count": null,
   "id": "cdee7463",
   "metadata": {},
   "outputs": [],
   "source": []
  },
  {
   "cell_type": "code",
   "execution_count": null,
   "id": "ffbcbd67",
   "metadata": {},
   "outputs": [],
   "source": []
  },
  {
   "cell_type": "code",
   "execution_count": null,
   "id": "58d30cbd",
   "metadata": {},
   "outputs": [],
   "source": []
  },
  {
   "cell_type": "code",
   "execution_count": 10,
   "id": "8408bf8d",
   "metadata": {},
   "outputs": [
    {
     "data": {
      "text/html": [
       "<div>\n",
       "<style scoped>\n",
       "    .dataframe tbody tr th:only-of-type {\n",
       "        vertical-align: middle;\n",
       "    }\n",
       "\n",
       "    .dataframe tbody tr th {\n",
       "        vertical-align: top;\n",
       "    }\n",
       "\n",
       "    .dataframe thead th {\n",
       "        text-align: right;\n",
       "    }\n",
       "</style>\n",
       "<table border=\"1\" class=\"dataframe\">\n",
       "  <thead>\n",
       "    <tr style=\"text-align: right;\">\n",
       "      <th></th>\n",
       "      <th>Crop</th>\n",
       "      <th>Crop_Year</th>\n",
       "      <th>Season</th>\n",
       "      <th>State</th>\n",
       "      <th>Area</th>\n",
       "      <th>Production</th>\n",
       "      <th>Annual_Rainfall</th>\n",
       "      <th>Fertilizer</th>\n",
       "      <th>Pesticide</th>\n",
       "      <th>Yield</th>\n",
       "    </tr>\n",
       "  </thead>\n",
       "  <tbody>\n",
       "    <tr>\n",
       "      <th>0</th>\n",
       "      <td>Arecanut</td>\n",
       "      <td>1997</td>\n",
       "      <td>Whole Year</td>\n",
       "      <td>Assam</td>\n",
       "      <td>73814.0</td>\n",
       "      <td>56708</td>\n",
       "      <td>2051.4</td>\n",
       "      <td>7024878.38</td>\n",
       "      <td>22882.34</td>\n",
       "      <td>0.796087</td>\n",
       "    </tr>\n",
       "    <tr>\n",
       "      <th>1</th>\n",
       "      <td>Arhar/Tur</td>\n",
       "      <td>1997</td>\n",
       "      <td>Kharif</td>\n",
       "      <td>Assam</td>\n",
       "      <td>6637.0</td>\n",
       "      <td>4685</td>\n",
       "      <td>2051.4</td>\n",
       "      <td>631643.29</td>\n",
       "      <td>2057.47</td>\n",
       "      <td>0.710435</td>\n",
       "    </tr>\n",
       "    <tr>\n",
       "      <th>2</th>\n",
       "      <td>Castor seed</td>\n",
       "      <td>1997</td>\n",
       "      <td>Kharif</td>\n",
       "      <td>Assam</td>\n",
       "      <td>796.0</td>\n",
       "      <td>22</td>\n",
       "      <td>2051.4</td>\n",
       "      <td>75755.32</td>\n",
       "      <td>246.76</td>\n",
       "      <td>0.238333</td>\n",
       "    </tr>\n",
       "    <tr>\n",
       "      <th>3</th>\n",
       "      <td>Coconut</td>\n",
       "      <td>1997</td>\n",
       "      <td>Whole Year</td>\n",
       "      <td>Assam</td>\n",
       "      <td>19656.0</td>\n",
       "      <td>126905000</td>\n",
       "      <td>2051.4</td>\n",
       "      <td>1870661.52</td>\n",
       "      <td>6093.36</td>\n",
       "      <td>5238.051739</td>\n",
       "    </tr>\n",
       "    <tr>\n",
       "      <th>4</th>\n",
       "      <td>Cotton(lint)</td>\n",
       "      <td>1997</td>\n",
       "      <td>Kharif</td>\n",
       "      <td>Assam</td>\n",
       "      <td>1739.0</td>\n",
       "      <td>794</td>\n",
       "      <td>2051.4</td>\n",
       "      <td>165500.63</td>\n",
       "      <td>539.09</td>\n",
       "      <td>0.420909</td>\n",
       "    </tr>\n",
       "    <tr>\n",
       "      <th>...</th>\n",
       "      <td>...</td>\n",
       "      <td>...</td>\n",
       "      <td>...</td>\n",
       "      <td>...</td>\n",
       "      <td>...</td>\n",
       "      <td>...</td>\n",
       "      <td>...</td>\n",
       "      <td>...</td>\n",
       "      <td>...</td>\n",
       "      <td>...</td>\n",
       "    </tr>\n",
       "    <tr>\n",
       "      <th>19684</th>\n",
       "      <td>Small millets</td>\n",
       "      <td>1998</td>\n",
       "      <td>Kharif</td>\n",
       "      <td>Nagaland</td>\n",
       "      <td>4000.0</td>\n",
       "      <td>2000</td>\n",
       "      <td>1498.0</td>\n",
       "      <td>395200.00</td>\n",
       "      <td>1160.00</td>\n",
       "      <td>0.500000</td>\n",
       "    </tr>\n",
       "    <tr>\n",
       "      <th>19685</th>\n",
       "      <td>Wheat</td>\n",
       "      <td>1998</td>\n",
       "      <td>Rabi</td>\n",
       "      <td>Nagaland</td>\n",
       "      <td>1000.0</td>\n",
       "      <td>3000</td>\n",
       "      <td>1498.0</td>\n",
       "      <td>98800.00</td>\n",
       "      <td>290.00</td>\n",
       "      <td>3.000000</td>\n",
       "    </tr>\n",
       "    <tr>\n",
       "      <th>19686</th>\n",
       "      <td>Maize</td>\n",
       "      <td>1997</td>\n",
       "      <td>Kharif</td>\n",
       "      <td>Jammu and Kashmir</td>\n",
       "      <td>310883.0</td>\n",
       "      <td>440900</td>\n",
       "      <td>1356.2</td>\n",
       "      <td>29586735.11</td>\n",
       "      <td>96373.73</td>\n",
       "      <td>1.285000</td>\n",
       "    </tr>\n",
       "    <tr>\n",
       "      <th>19687</th>\n",
       "      <td>Rice</td>\n",
       "      <td>1997</td>\n",
       "      <td>Kharif</td>\n",
       "      <td>Jammu and Kashmir</td>\n",
       "      <td>275746.0</td>\n",
       "      <td>5488</td>\n",
       "      <td>1356.2</td>\n",
       "      <td>26242746.82</td>\n",
       "      <td>85481.26</td>\n",
       "      <td>0.016667</td>\n",
       "    </tr>\n",
       "    <tr>\n",
       "      <th>19688</th>\n",
       "      <td>Wheat</td>\n",
       "      <td>1997</td>\n",
       "      <td>Rabi</td>\n",
       "      <td>Jammu and Kashmir</td>\n",
       "      <td>239344.0</td>\n",
       "      <td>392160</td>\n",
       "      <td>1356.2</td>\n",
       "      <td>22778368.48</td>\n",
       "      <td>74196.64</td>\n",
       "      <td>1.261818</td>\n",
       "    </tr>\n",
       "  </tbody>\n",
       "</table>\n",
       "<p>19689 rows × 10 columns</p>\n",
       "</div>"
      ],
      "text/plain": [
       "                Crop  Crop_Year       Season              State      Area  \\\n",
       "0           Arecanut       1997  Whole Year               Assam   73814.0   \n",
       "1          Arhar/Tur       1997  Kharif                   Assam    6637.0   \n",
       "2        Castor seed       1997  Kharif                   Assam     796.0   \n",
       "3           Coconut        1997  Whole Year               Assam   19656.0   \n",
       "4       Cotton(lint)       1997  Kharif                   Assam    1739.0   \n",
       "...              ...        ...          ...                ...       ...   \n",
       "19684  Small millets       1998  Kharif                Nagaland    4000.0   \n",
       "19685          Wheat       1998  Rabi                  Nagaland    1000.0   \n",
       "19686          Maize       1997  Kharif       Jammu and Kashmir  310883.0   \n",
       "19687           Rice       1997  Kharif       Jammu and Kashmir  275746.0   \n",
       "19688          Wheat       1997  Rabi         Jammu and Kashmir  239344.0   \n",
       "\n",
       "       Production  Annual_Rainfall   Fertilizer  Pesticide        Yield  \n",
       "0           56708           2051.4   7024878.38   22882.34     0.796087  \n",
       "1            4685           2051.4    631643.29    2057.47     0.710435  \n",
       "2              22           2051.4     75755.32     246.76     0.238333  \n",
       "3       126905000           2051.4   1870661.52    6093.36  5238.051739  \n",
       "4             794           2051.4    165500.63     539.09     0.420909  \n",
       "...           ...              ...          ...        ...          ...  \n",
       "19684        2000           1498.0    395200.00    1160.00     0.500000  \n",
       "19685        3000           1498.0     98800.00     290.00     3.000000  \n",
       "19686      440900           1356.2  29586735.11   96373.73     1.285000  \n",
       "19687        5488           1356.2  26242746.82   85481.26     0.016667  \n",
       "19688      392160           1356.2  22778368.48   74196.64     1.261818  \n",
       "\n",
       "[19689 rows x 10 columns]"
      ]
     },
     "execution_count": 10,
     "metadata": {},
     "output_type": "execute_result"
    }
   ],
   "source": [
    "df2 = pd.read_csv(\"crop_yield.csv\")\n",
    "df2"
   ]
  },
  {
   "cell_type": "code",
   "execution_count": 11,
   "id": "45a034c1",
   "metadata": {},
   "outputs": [
    {
     "data": {
      "text/html": [
       "<div>\n",
       "<style scoped>\n",
       "    .dataframe tbody tr th:only-of-type {\n",
       "        vertical-align: middle;\n",
       "    }\n",
       "\n",
       "    .dataframe tbody tr th {\n",
       "        vertical-align: top;\n",
       "    }\n",
       "\n",
       "    .dataframe thead th {\n",
       "        text-align: right;\n",
       "    }\n",
       "</style>\n",
       "<table border=\"1\" class=\"dataframe\">\n",
       "  <thead>\n",
       "    <tr style=\"text-align: right;\">\n",
       "      <th></th>\n",
       "      <th>Crop</th>\n",
       "      <th>Crop_Year</th>\n",
       "      <th>Season</th>\n",
       "      <th>State</th>\n",
       "      <th>Area</th>\n",
       "      <th>Production</th>\n",
       "      <th>Annual_Rainfall</th>\n",
       "      <th>Fertilizer</th>\n",
       "      <th>Pesticide</th>\n",
       "      <th>Yield</th>\n",
       "    </tr>\n",
       "  </thead>\n",
       "  <tbody>\n",
       "    <tr>\n",
       "      <th>10939</th>\n",
       "      <td>Arhar/Tur</td>\n",
       "      <td>2008</td>\n",
       "      <td>Rabi</td>\n",
       "      <td>Jammu and Kashmir</td>\n",
       "      <td>22.0</td>\n",
       "      <td>12</td>\n",
       "      <td>1390.1</td>\n",
       "      <td>3146.88</td>\n",
       "      <td>1.98</td>\n",
       "      <td>0.550000</td>\n",
       "    </tr>\n",
       "    <tr>\n",
       "      <th>10940</th>\n",
       "      <td>Barley</td>\n",
       "      <td>2008</td>\n",
       "      <td>Rabi</td>\n",
       "      <td>Jammu and Kashmir</td>\n",
       "      <td>9747.0</td>\n",
       "      <td>4724</td>\n",
       "      <td>1390.1</td>\n",
       "      <td>1394210.88</td>\n",
       "      <td>877.23</td>\n",
       "      <td>0.585000</td>\n",
       "    </tr>\n",
       "    <tr>\n",
       "      <th>10941</th>\n",
       "      <td>Garlic</td>\n",
       "      <td>2008</td>\n",
       "      <td>Rabi</td>\n",
       "      <td>Jammu and Kashmir</td>\n",
       "      <td>604.0</td>\n",
       "      <td>516</td>\n",
       "      <td>1390.1</td>\n",
       "      <td>86396.16</td>\n",
       "      <td>54.36</td>\n",
       "      <td>0.825556</td>\n",
       "    </tr>\n",
       "    <tr>\n",
       "      <th>10942</th>\n",
       "      <td>Gram</td>\n",
       "      <td>2008</td>\n",
       "      <td>Rabi</td>\n",
       "      <td>Jammu and Kashmir</td>\n",
       "      <td>284.0</td>\n",
       "      <td>155</td>\n",
       "      <td>1390.1</td>\n",
       "      <td>40623.36</td>\n",
       "      <td>25.56</td>\n",
       "      <td>0.545000</td>\n",
       "    </tr>\n",
       "    <tr>\n",
       "      <th>10943</th>\n",
       "      <td>Linseed</td>\n",
       "      <td>2008</td>\n",
       "      <td>Rabi</td>\n",
       "      <td>Jammu and Kashmir</td>\n",
       "      <td>126.0</td>\n",
       "      <td>97</td>\n",
       "      <td>1390.1</td>\n",
       "      <td>18023.04</td>\n",
       "      <td>11.34</td>\n",
       "      <td>0.782000</td>\n",
       "    </tr>\n",
       "  </tbody>\n",
       "</table>\n",
       "</div>"
      ],
      "text/plain": [
       "            Crop  Crop_Year       Season              State    Area  \\\n",
       "10939  Arhar/Tur       2008  Rabi         Jammu and Kashmir    22.0   \n",
       "10940     Barley       2008  Rabi         Jammu and Kashmir  9747.0   \n",
       "10941     Garlic       2008  Rabi         Jammu and Kashmir   604.0   \n",
       "10942       Gram       2008  Rabi         Jammu and Kashmir   284.0   \n",
       "10943    Linseed       2008  Rabi         Jammu and Kashmir   126.0   \n",
       "\n",
       "       Production  Annual_Rainfall  Fertilizer  Pesticide     Yield  \n",
       "10939          12           1390.1     3146.88       1.98  0.550000  \n",
       "10940        4724           1390.1  1394210.88     877.23  0.585000  \n",
       "10941         516           1390.1    86396.16      54.36  0.825556  \n",
       "10942         155           1390.1    40623.36      25.56  0.545000  \n",
       "10943          97           1390.1    18023.04      11.34  0.782000  "
      ]
     },
     "execution_count": 11,
     "metadata": {},
     "output_type": "execute_result"
    }
   ],
   "source": [
    "jk_df = df2.loc[df2['State'] ==\"Jammu and Kashmir\"]\n",
    "jk_df.head(5)"
   ]
  },
  {
   "cell_type": "code",
   "execution_count": 16,
   "id": "c04a847c",
   "metadata": {},
   "outputs": [
    {
     "data": {
      "text/plain": [
       "(631, 10)"
      ]
     },
     "execution_count": 16,
     "metadata": {},
     "output_type": "execute_result"
    }
   ],
   "source": [
    "jk_df.shape"
   ]
  },
  {
   "cell_type": "code",
   "execution_count": 18,
   "id": "6b77bcc6",
   "metadata": {},
   "outputs": [
    {
     "data": {
      "text/plain": [
       "array(['Arhar/Tur', 'Barley', 'Garlic', 'Gram', 'Linseed', 'Masoor',\n",
       "       'Onion', 'Other  Rabi pulses', 'Peas & beans (Pulses)', 'Potato',\n",
       "       'Rapeseed &Mustard', 'Urad', 'Wheat', 'other oilseeds', 'Bajra',\n",
       "       'Cotton(lint)', 'Cowpea(Lobia)', 'Dry chillies', 'Ginger',\n",
       "       'Groundnut', 'Horse-gram', 'Jowar', 'Maize', 'Moong(Green Gram)',\n",
       "       'Moth', 'Other Cereals', 'Other Kharif pulses', 'Rice', 'Sannhamp',\n",
       "       'Sesamum', 'Small millets', 'Sugarcane', 'Tobacco', 'Turmeric',\n",
       "       'Coriander', 'Ragi'], dtype=object)"
      ]
     },
     "execution_count": 18,
     "metadata": {},
     "output_type": "execute_result"
    }
   ],
   "source": [
    "jk_df[\"Crop\"].unique()"
   ]
  },
  {
   "cell_type": "code",
   "execution_count": null,
   "id": "6d45584f",
   "metadata": {},
   "outputs": [],
   "source": []
  }
 ],
 "metadata": {
  "kernelspec": {
   "display_name": "Python 3 (ipykernel)",
   "language": "python",
   "name": "python3"
  },
  "language_info": {
   "codemirror_mode": {
    "name": "ipython",
    "version": 3
   },
   "file_extension": ".py",
   "mimetype": "text/x-python",
   "name": "python",
   "nbconvert_exporter": "python",
   "pygments_lexer": "ipython3",
   "version": "3.11.0"
  }
 },
 "nbformat": 4,
 "nbformat_minor": 5
}
